{
 "cells": [
  {
   "cell_type": "code",
   "execution_count": 5,
   "metadata": {},
   "outputs": [],
   "source": [
    "import pandas as pd\n",
    "import numpy as np\n",
    "import matplotlib.pyplot as plt\n",
    "import seaborn as sns\n",
    "from sklearn.linear_model import LogisticRegression\n",
    "from sklearn.model_selection import train_test_split\n",
    "from sklearn import metrics\n",
    "from sklearn.ensemble import RandomForestClassifier\n",
    "from sklearn.neural_network import MLPClassifier\n",
    "from sklearn.naive_bayes import GaussianNB\n",
    "from sklearn.naive_bayes import CategoricalNB\n",
    "from sklearn.model_selection import cross_validate\n",
    "import xgboost as xgb"
   ]
  },
  {
   "cell_type": "code",
   "execution_count": 6,
   "metadata": {},
   "outputs": [],
   "source": [
    "df = pd.read_csv(\"C:/Users/User/OneDrive - Singapore Management University/Python and R/Python/Python_Notebooks/Kaggle/Titanic competition/train.csv\")"
   ]
  },
  {
   "cell_type": "code",
   "execution_count": 7,
   "metadata": {},
   "outputs": [
    {
     "data": {
      "text/html": [
       "<div>\n",
       "<style scoped>\n",
       "    .dataframe tbody tr th:only-of-type {\n",
       "        vertical-align: middle;\n",
       "    }\n",
       "\n",
       "    .dataframe tbody tr th {\n",
       "        vertical-align: top;\n",
       "    }\n",
       "\n",
       "    .dataframe thead th {\n",
       "        text-align: right;\n",
       "    }\n",
       "</style>\n",
       "<table border=\"1\" class=\"dataframe\">\n",
       "  <thead>\n",
       "    <tr style=\"text-align: right;\">\n",
       "      <th></th>\n",
       "      <th>PassengerId</th>\n",
       "      <th>Survived</th>\n",
       "      <th>Pclass</th>\n",
       "      <th>Name</th>\n",
       "      <th>Sex</th>\n",
       "      <th>Age</th>\n",
       "      <th>SibSp</th>\n",
       "      <th>Parch</th>\n",
       "      <th>Ticket</th>\n",
       "      <th>Fare</th>\n",
       "      <th>Cabin</th>\n",
       "      <th>Embarked</th>\n",
       "    </tr>\n",
       "  </thead>\n",
       "  <tbody>\n",
       "    <tr>\n",
       "      <th>0</th>\n",
       "      <td>1</td>\n",
       "      <td>0</td>\n",
       "      <td>3</td>\n",
       "      <td>Braund, Mr. Owen Harris</td>\n",
       "      <td>male</td>\n",
       "      <td>22.0</td>\n",
       "      <td>1</td>\n",
       "      <td>0</td>\n",
       "      <td>A/5 21171</td>\n",
       "      <td>7.2500</td>\n",
       "      <td>NaN</td>\n",
       "      <td>S</td>\n",
       "    </tr>\n",
       "    <tr>\n",
       "      <th>1</th>\n",
       "      <td>2</td>\n",
       "      <td>1</td>\n",
       "      <td>1</td>\n",
       "      <td>Cumings, Mrs. John Bradley (Florence Briggs Th...</td>\n",
       "      <td>female</td>\n",
       "      <td>38.0</td>\n",
       "      <td>1</td>\n",
       "      <td>0</td>\n",
       "      <td>PC 17599</td>\n",
       "      <td>71.2833</td>\n",
       "      <td>C85</td>\n",
       "      <td>C</td>\n",
       "    </tr>\n",
       "    <tr>\n",
       "      <th>2</th>\n",
       "      <td>3</td>\n",
       "      <td>1</td>\n",
       "      <td>3</td>\n",
       "      <td>Heikkinen, Miss. Laina</td>\n",
       "      <td>female</td>\n",
       "      <td>26.0</td>\n",
       "      <td>0</td>\n",
       "      <td>0</td>\n",
       "      <td>STON/O2. 3101282</td>\n",
       "      <td>7.9250</td>\n",
       "      <td>NaN</td>\n",
       "      <td>S</td>\n",
       "    </tr>\n",
       "    <tr>\n",
       "      <th>3</th>\n",
       "      <td>4</td>\n",
       "      <td>1</td>\n",
       "      <td>1</td>\n",
       "      <td>Futrelle, Mrs. Jacques Heath (Lily May Peel)</td>\n",
       "      <td>female</td>\n",
       "      <td>35.0</td>\n",
       "      <td>1</td>\n",
       "      <td>0</td>\n",
       "      <td>113803</td>\n",
       "      <td>53.1000</td>\n",
       "      <td>C123</td>\n",
       "      <td>S</td>\n",
       "    </tr>\n",
       "    <tr>\n",
       "      <th>4</th>\n",
       "      <td>5</td>\n",
       "      <td>0</td>\n",
       "      <td>3</td>\n",
       "      <td>Allen, Mr. William Henry</td>\n",
       "      <td>male</td>\n",
       "      <td>35.0</td>\n",
       "      <td>0</td>\n",
       "      <td>0</td>\n",
       "      <td>373450</td>\n",
       "      <td>8.0500</td>\n",
       "      <td>NaN</td>\n",
       "      <td>S</td>\n",
       "    </tr>\n",
       "  </tbody>\n",
       "</table>\n",
       "</div>"
      ],
      "text/plain": [
       "   PassengerId  Survived  Pclass  \\\n",
       "0            1         0       3   \n",
       "1            2         1       1   \n",
       "2            3         1       3   \n",
       "3            4         1       1   \n",
       "4            5         0       3   \n",
       "\n",
       "                                                Name     Sex   Age  SibSp  \\\n",
       "0                            Braund, Mr. Owen Harris    male  22.0      1   \n",
       "1  Cumings, Mrs. John Bradley (Florence Briggs Th...  female  38.0      1   \n",
       "2                             Heikkinen, Miss. Laina  female  26.0      0   \n",
       "3       Futrelle, Mrs. Jacques Heath (Lily May Peel)  female  35.0      1   \n",
       "4                           Allen, Mr. William Henry    male  35.0      0   \n",
       "\n",
       "   Parch            Ticket     Fare Cabin Embarked  \n",
       "0      0         A/5 21171   7.2500   NaN        S  \n",
       "1      0          PC 17599  71.2833   C85        C  \n",
       "2      0  STON/O2. 3101282   7.9250   NaN        S  \n",
       "3      0            113803  53.1000  C123        S  \n",
       "4      0            373450   8.0500   NaN        S  "
      ]
     },
     "execution_count": 7,
     "metadata": {},
     "output_type": "execute_result"
    }
   ],
   "source": [
    "df.head()"
   ]
  },
  {
   "cell_type": "code",
   "execution_count": 8,
   "metadata": {},
   "outputs": [
    {
     "data": {
      "text/plain": [
       "0      1\n",
       "1      0\n",
       "2      0\n",
       "3      0\n",
       "4      1\n",
       "      ..\n",
       "886    1\n",
       "887    0\n",
       "888    0\n",
       "889    1\n",
       "890    1\n",
       "Name: Sex binary, Length: 891, dtype: int64"
      ]
     },
     "execution_count": 8,
     "metadata": {},
     "output_type": "execute_result"
    }
   ],
   "source": [
    "df[\"Sex binary\"] = df[\"Sex\"].replace([\"male\",\"female\"],[1,0])\n",
    "df[\"Sex binary\"]"
   ]
  },
  {
   "cell_type": "code",
   "execution_count": 9,
   "metadata": {},
   "outputs": [
    {
     "data": {
      "text/plain": [
       "S    644\n",
       "C    168\n",
       "Q     77\n",
       "Name: Embarked, dtype: int64"
      ]
     },
     "execution_count": 9,
     "metadata": {},
     "output_type": "execute_result"
    }
   ],
   "source": [
    "df[\"Embarked\"].value_counts()"
   ]
  },
  {
   "cell_type": "code",
   "execution_count": 10,
   "metadata": {},
   "outputs": [
    {
     "data": {
      "text/plain": [
       "PassengerId      0\n",
       "Survived         0\n",
       "Pclass           0\n",
       "Name             0\n",
       "Sex              0\n",
       "Age            177\n",
       "SibSp            0\n",
       "Parch            0\n",
       "Ticket           0\n",
       "Fare             0\n",
       "Cabin          687\n",
       "Embarked         2\n",
       "Sex binary       0\n",
       "dtype: int64"
      ]
     },
     "execution_count": 10,
     "metadata": {},
     "output_type": "execute_result"
    }
   ],
   "source": [
    "df.isnull().sum()"
   ]
  },
  {
   "cell_type": "code",
   "execution_count": 11,
   "metadata": {},
   "outputs": [
    {
     "data": {
      "text/plain": [
       "0    549\n",
       "1    342\n",
       "Name: Survived, dtype: int64"
      ]
     },
     "execution_count": 11,
     "metadata": {},
     "output_type": "execute_result"
    }
   ],
   "source": [
    "df.Survived.value_counts()"
   ]
  },
  {
   "cell_type": "code",
   "execution_count": 12,
   "metadata": {},
   "outputs": [],
   "source": [
    "objects = [\"male\",\"female\"]\n",
    "performance_survived = [df[(df[\"Sex\"]==\"male\")&(df[\"Survived\"]==1)][\"Sex\"].count(),df[(df[\"Sex\"]==\"female\")&(df[\"Survived\"]==1)][\"Sex\"].count()]"
   ]
  },
  {
   "cell_type": "code",
   "execution_count": 13,
   "metadata": {},
   "outputs": [
    {
     "data": {
      "image/png": "[encoded data removed]",
      "text/plain": [
       "<Figure size 720x576 with 1 Axes>"
      ]
     },
     "metadata": {
      "needs_background": "light"
     },
     "output_type": "display_data"
    }
   ],
   "source": [
    "plt.figure(figsize=(10,8))\n",
    "plt.bar(np.arange(len(objects)),performance_survived,alpha=0.5, color=\"green\")\n",
    "plt.xticks(np.arange(len(objects)), objects)\n",
    "plt.ylabel('Survived')\n",
    "plt.title('Survived Titanic Passengers by Sex',fontsize=20)\n",
    "plt.axis(\"off\")\n",
    "plt.yticks(range(0,250))\n",
    "for x,y,i in zip(np.arange(len(objects)),performance_survived,objects):\n",
    "        \n",
    "    label = \"{:.0f}:{}\".format(y,i)\n",
    "\n",
    "    plt.annotate(label, # this is the text\n",
    "                 (x,y), # this is the point to label\n",
    "                 textcoords=\"offset points\", # how to position the text\n",
    "                 xytext=(0,10), # distance from text to points (x,y)\n",
    "                 fontsize = 16,\n",
    "                 ha='center') # horizontal alignment can be left, right or center\n",
    "plt.show()"
   ]
  },
  {
   "cell_type": "code",
   "execution_count": 14,
   "metadata": {},
   "outputs": [],
   "source": [
    "objects = [\"male\",\"female\"]\n",
    "performance_died = [df[(df[\"Sex\"]==\"male\")&(df[\"Survived\"]==0)][\"Sex\"].count(),df[(df[\"Sex\"]==\"female\")&(df[\"Survived\"]==0)][\"Sex\"].count()]"
   ]
  },
  {
   "cell_type": "code",
   "execution_count": 15,
   "metadata": {},
   "outputs": [
    {
     "data": {
      "image/png": "[encoded data removed]",
      "text/plain": [
       "<Figure size 720x576 with 1 Axes>"
      ]
     },
     "metadata": {
      "needs_background": "light"
     },
     "output_type": "display_data"
    }
   ],
   "source": [
    "plt.figure(figsize=(10,8))\n",
    "plt.bar(np.arange(len(objects)),performance_died,alpha=0.5, color=\"red\")\n",
    "plt.xticks(np.arange(len(objects)), objects)\n",
    "plt.ylabel('Survived')\n",
    "plt.title('Died Titanic Passengers by Sex',fontsize=20)\n",
    "plt.axis(\"off\")\n",
    "plt.yticks(range(0,500))\n",
    "for x,y,i in zip(np.arange(len(objects)),performance_died,objects):\n",
    "        \n",
    "    label = \"{:.0f}:{}\".format(y,i)\n",
    "\n",
    "    plt.annotate(label, # this is the text\n",
    "                 (x,y), # this is the point to label\n",
    "                 textcoords=\"offset points\", # how to position the text\n",
    "                 xytext=(0,10), # distance from text to points (x,y)\n",
    "                 fontsize = 16,\n",
    "                 ha='center') # horizontal alignment can be left, right or center\n",
    "plt.show()"
   ]
  },
  {
   "cell_type": "code",
   "execution_count": 16,
   "metadata": {},
   "outputs": [],
   "source": [
    "x = pd.concat([pd.get_dummies(df.loc[:,[\"Embarked\"]]),df.loc[:,[\"Fare\",\"Sex binary\",\"Pclass\"]]],axis=1)\n",
    "#x = df.loc[:,[\"Fare\",\"Sex binary\",\"Pclass\"]]\n",
    "y = df[\"Survived\"]"
   ]
  },
  {
   "cell_type": "code",
   "execution_count": 20,
   "metadata": {},
   "outputs": [
    {
     "name": "stdout",
     "output_type": "stream",
     "text": [
      "Accuracy of Random Forest Classification on training set: 0.853\n",
      "\n",
      "Accuracy of Random Forest Classification on test set: 0.825\n",
      "\n",
      "Precision of Random Forest Classification on test set: 0.785\n",
      "\n",
      "Recall of Random Forest Classification on test set: 0.738\n",
      "\n",
      "F1_score of Random Forest Classification on test set: 0.761\n",
      "\n",
      "Confusion matrix\n",
      " [[122  17]\n",
      " [ 22  62]]\n"
     ]
    }
   ],
   "source": [
    "x_train, x_test, y_train,  y_test = train_test_split(x, y, random_state=0)\n",
    "xgb_model = xgb.XGBClassifier(objective=\"binary:logistic\", random_state=42).fit(x_train, y_train)\n",
    "\n",
    "y_test_pred = xgb_model.predict(x_test)\n",
    "y_train_pred = xgb_model.predict(x_train)\n",
    "\n",
    "print('Accuracy of XGBoosting on training set: {:.3f}\\n'\n",
    "     .format(metrics.accuracy_score(y_train, y_train_pred)))\n",
    "print('Accuracy of XGBoosting  Classification on test set: {:.3f}\\n'\n",
    "     .format(metrics.accuracy_score(y_test, y_test_pred)))\n",
    "print('Precision of XGBoosting  Classification on test set: {:.3f}\\n'\n",
    "     .format(metrics.precision_score(y_test, y_test_pred)))\n",
    "print('Recall of XGBoosting  Classification on test set: {:.3f}\\n'\n",
    "     .format(metrics.recall_score(y_test, y_test_pred)))\n",
    "print('F1_score of XGBoosting  Classification on test set: {:.3f}\\n'\n",
    "     .format(metrics.f1_score(y_test, y_test_pred)))\n",
    "\n",
    "print(\"Confusion matrix\\n\", metrics.confusion_matrix(y_test, y_test_pred))\n"
   ]
  },
  {
   "cell_type": "code",
   "execution_count": 17,
   "metadata": {},
   "outputs": [
    {
     "name": "stdout",
     "output_type": "stream",
     "text": [
      "Accuracy of Random Forest Classification on training set: 0.910\n",
      "\n",
      "Accuracy of Random Forest Classification on test set: 0.816\n",
      "\n",
      "Precision of Random Forest Classification on test set: 0.759\n",
      "\n",
      "Recall of Random Forest Classification on test set: 0.750\n",
      "\n",
      "F1_score of Random Forest Classification on test set: 0.754\n",
      "\n",
      "Confusion matrix\n",
      " [[119  20]\n",
      " [ 21  63]]\n"
     ]
    }
   ],
   "source": [
    "# Make Random Forest Classification\n",
    "x_train, x_test, y_train,  y_test = train_test_split(x, y, random_state=0)\n",
    "forest = RandomForestClassifier(criterion=\"gini\",random_state=0).fit(x_train,y_train)\n",
    "\n",
    "y_test_pred = forest.predict(x_test)\n",
    "y_train_pred = forest.predict(x_train)\n",
    "\n",
    "print('Accuracy of Random Forest Classification on training set: {:.3f}\\n'\n",
    "     .format(metrics.accuracy_score(y_train, y_train_pred)))\n",
    "print('Accuracy of Random Forest Classification on test set: {:.3f}\\n'\n",
    "     .format(metrics.accuracy_score(y_test, y_test_pred)))\n",
    "print('Precision of Random Forest Classification on test set: {:.3f}\\n'\n",
    "     .format(metrics.precision_score(y_test, y_test_pred)))\n",
    "print('Recall of Random Forest Classification on test set: {:.3f}\\n'\n",
    "     .format(metrics.recall_score(y_test, y_test_pred)))\n",
    "print('F1_score of Random Forest Classification on test set: {:.3f}\\n'\n",
    "     .format(metrics.f1_score(y_test, y_test_pred)))\n",
    "\n",
    "print(\"Confusion matrix\\n\", metrics.confusion_matrix(y_test, y_test_pred))"
   ]
  },
  {
   "cell_type": "code",
   "execution_count": 15,
   "metadata": {},
   "outputs": [
    {
     "name": "stdout",
     "output_type": "stream",
     "text": [
      "Accuracy of CNb on training set: 0.784\n",
      "\n",
      "Accuracy of CNb on test set: 0.812\n",
      "\n",
      "Precision of CNb on test set: 0.784\n",
      "\n",
      "Recall of CNb on test set: 0.690\n",
      "\n",
      "F1_score of CNb on test set: 0.734\n",
      "\n",
      "Confusion matrix\n",
      " [[123  16]\n",
      " [ 26  58]]\n"
     ]
    }
   ],
   "source": [
    "# Make Simple CNb\n",
    "x_train, x_test, y_train,  y_test = train_test_split(x, y, random_state=0)\n",
    "CNb = CategoricalNB().fit(x_train,y_train)\n",
    "\n",
    "y_test_pred = CNb.predict(x_test)\n",
    "y_train_pred = CNb.predict(x_train)\n",
    "\n",
    "print('Accuracy of CNb on training set: {:.3f}\\n'\n",
    "     .format(metrics.accuracy_score(y_train, y_train_pred)))\n",
    "print('Accuracy of CNb on test set: {:.3f}\\n'\n",
    "     .format(metrics.accuracy_score(y_test, y_test_pred)))\n",
    "print('Precision of CNb on test set: {:.3f}\\n'\n",
    "     .format(metrics.precision_score(y_test, y_test_pred)))\n",
    "print('Recall of CNb on test set: {:.3f}\\n'\n",
    "     .format(metrics.recall_score(y_test, y_test_pred)))\n",
    "print('F1_score of CNb on test set: {:.3f}\\n'\n",
    "     .format(metrics.f1_score(y_test, y_test_pred)))\n",
    "\n",
    "print(\"Confusion matrix\\n\", metrics.confusion_matrix(y_test, y_test_pred))"
   ]
  },
  {
   "cell_type": "code",
   "execution_count": 16,
   "metadata": {},
   "outputs": [
    {
     "name": "stdout",
     "output_type": "stream",
     "text": [
      "Random Forest test_score mean:0.805 [0.75418994 0.78651685 0.84269663 0.82022472 0.82022472]\n",
      "Categorical Naive Bayes test_score mean:0.762 [0.66480447 0.75280899 0.81460674 0.78651685 0.79213483]\n"
     ]
    }
   ],
   "source": [
    "cv_results = cross_validate(forest, x, y, cv=5)\n",
    "print(\"Random Forest test_score mean:{:.3f}\".format(cv_results[\"test_score\"].mean()),cv_results[\"test_score\"])\n",
    "cv_results = cross_validate(CNb, x, y, cv=5)\n",
    "print(\"Categorical Naive Bayes test_score mean:{:.3f}\".format(cv_results[\"test_score\"].mean()),cv_results[\"test_score\"])"
   ]
  },
  {
   "cell_type": "code",
   "execution_count": 80,
   "metadata": {},
   "outputs": [
    {
     "name": "stdout",
     "output_type": "stream",
     "text": [
      "Accuracy of Nb on training set: 0.775\n",
      "\n",
      "Accuracy of Nb on test set: 0.789\n",
      "\n",
      "Precision of Nb on test set: 0.728\n",
      "\n",
      "Recall of Nb on test set: 0.702\n",
      "\n",
      "F1_score of Nb on test set: 0.715\n",
      "\n",
      "Confusion matrix\n",
      " [[117  22]\n",
      " [ 25  59]]\n"
     ]
    }
   ],
   "source": [
    "# Make Simple Nb\n",
    "x_train, x_test, y_train,  y_test = train_test_split(x, y, random_state=0)\n",
    "Nb = GaussianNB().fit(x_train,y_train)\n",
    "\n",
    "y_test_pred = Nb.predict(x_test)\n",
    "y_train_pred = Nb.predict(x_train)\n",
    "\n",
    "print('Accuracy of Nb on training set: {:.3f}\\n'\n",
    "     .format(metrics.accuracy_score(y_train, y_train_pred)))\n",
    "print('Accuracy of Nb on test set: {:.3f}\\n'\n",
    "     .format(metrics.accuracy_score(y_test, y_test_pred)))\n",
    "print('Precision of Nb on test set: {:.3f}\\n'\n",
    "     .format(metrics.precision_score(y_test, y_test_pred)))\n",
    "print('Recall of Nb on test set: {:.3f}\\n'\n",
    "     .format(metrics.recall_score(y_test, y_test_pred)))\n",
    "print('F1_score of Nb on test set: {:.3f}\\n'\n",
    "     .format(metrics.f1_score(y_test, y_test_pred)))\n",
    "\n",
    "print(\"Confusion matrix\\n\", metrics.confusion_matrix(y_test, y_test_pred))"
   ]
  },
  {
   "cell_type": "code",
   "execution_count": 77,
   "metadata": {},
   "outputs": [
    {
     "name": "stdout",
     "output_type": "stream",
     "text": [
      "Accuracy of NN on training set: 0.789\n",
      "\n",
      "Accuracy of NN on test set: 0.780\n",
      "\n",
      "Precision of NN on test set: 0.711\n",
      "\n",
      "Recall of NN on test set: 0.702\n",
      "\n",
      "F1_score of NN on test set: 0.707\n",
      "\n",
      "Confusion matrix\n",
      " [[115  24]\n",
      " [ 25  59]]\n"
     ]
    }
   ],
   "source": [
    "# Make Simple NN\n",
    "x_train, x_test, y_train,  y_test = train_test_split(x, y, random_state=0)\n",
    "NN = MLPClassifier(max_iter=1000).fit(x_train,y_train)\n",
    "\n",
    "y_test_pred = NN.predict(x_test)\n",
    "y_train_pred = NN.predict(x_train)\n",
    "\n",
    "print('Accuracy of NN on training set: {:.3f}\\n'\n",
    "     .format(metrics.accuracy_score(y_train, y_train_pred)))\n",
    "print('Accuracy of NN on test set: {:.3f}\\n'\n",
    "     .format(metrics.accuracy_score(y_test, y_test_pred)))\n",
    "print('Precision of NN on test set: {:.3f}\\n'\n",
    "     .format(metrics.precision_score(y_test, y_test_pred)))\n",
    "print('Recall of NN on test set: {:.3f}\\n'\n",
    "     .format(metrics.recall_score(y_test, y_test_pred)))\n",
    "print('F1_score of NN on test set: {:.3f}\\n'\n",
    "     .format(metrics.f1_score(y_test, y_test_pred)))\n",
    "\n",
    "print(\"Confusion matrix\\n\", metrics.confusion_matrix(y_test, y_test_pred))"
   ]
  },
  {
   "cell_type": "code",
   "execution_count": 79,
   "metadata": {},
   "outputs": [
    {
     "name": "stdout",
     "output_type": "stream",
     "text": [
      "Accuracy of Logistic regression classifier on training set: 0.775\n",
      "\n",
      "Accuracy of Logistic regression classifier on test set: 0.785\n",
      "\n",
      "Precision of Logistic regression classifier on test set: 0.688\n",
      "\n",
      "Recall of Logistic regression classifier on test set: 0.786\n",
      "\n",
      "F1_score of Logistic regression classifier on test set: 0.733\n",
      "\n",
      "Confusion matrix\n",
      " [[109  30]\n",
      " [ 18  66]]\n"
     ]
    }
   ],
   "source": [
    "# Make Simple logistic Regression Classifier\n",
    "x_train, x_test, y_train,  y_test = train_test_split(x, y, random_state=0)\n",
    "logistic_reg = LogisticRegression(C=10).fit(x_train,y_train)\n",
    "\n",
    "y_test_pred = logistic_reg.predict(x_test)\n",
    "y_train_pred = logistic_reg.predict(x_train)\n",
    "\n",
    "print('Accuracy of Logistic regression classifier on training set: {:.3f}\\n'\n",
    "     .format(metrics.accuracy_score(y_train, y_train_pred)))\n",
    "print('Accuracy of Logistic regression classifier on test set: {:.3f}\\n'\n",
    "     .format(metrics.accuracy_score(y_test, y_test_pred)))\n",
    "print('Precision of Logistic regression classifier on test set: {:.3f}\\n'\n",
    "     .format(metrics.precision_score(y_test, y_test_pred)))\n",
    "print('Recall of Logistic regression classifier on test set: {:.3f}\\n'\n",
    "     .format(metrics.recall_score(y_test, y_test_pred)))\n",
    "print('F1_score of Logistic regression classifier on test set: {:.3f}\\n'\n",
    "     .format(metrics.f1_score(y_test, y_test_pred)))\n",
    "\n",
    "print(\"Confusion matrix\\n\", metrics.confusion_matrix(y_test, y_test_pred))"
   ]
  },
  {
   "cell_type": "code",
   "execution_count": 21,
   "metadata": {},
   "outputs": [],
   "source": [
    "df_test = pd.read_csv(\"C:/Users/User/OneDrive - Singapore Management University/Python and R/Python/Python_Notebooks/Kaggle/Titanic competition/test.csv\")"
   ]
  },
  {
   "cell_type": "code",
   "execution_count": 22,
   "metadata": {},
   "outputs": [
    {
     "data": {
      "text/plain": [
       "35.6271884892086"
      ]
     },
     "execution_count": 22,
     "metadata": {},
     "output_type": "execute_result"
    }
   ],
   "source": [
    "df_test[\"Fare\"].mean()"
   ]
  },
  {
   "cell_type": "code",
   "execution_count": 23,
   "metadata": {},
   "outputs": [],
   "source": [
    "df_test[\"Fare\"] = df_test[\"Fare\"].fillna(35)"
   ]
  },
  {
   "cell_type": "code",
   "execution_count": 24,
   "metadata": {},
   "outputs": [
    {
     "data": {
      "text/plain": [
       "PassengerId      0\n",
       "Pclass           0\n",
       "Name             0\n",
       "Sex              0\n",
       "Age             86\n",
       "SibSp            0\n",
       "Parch            0\n",
       "Ticket           0\n",
       "Fare             0\n",
       "Cabin          327\n",
       "Embarked         0\n",
       "dtype: int64"
      ]
     },
     "execution_count": 24,
     "metadata": {},
     "output_type": "execute_result"
    }
   ],
   "source": [
    "df_test.isnull().sum()"
   ]
  },
  {
   "cell_type": "code",
   "execution_count": 25,
   "metadata": {},
   "outputs": [],
   "source": [
    "df_test[\"Sex binary\"] = df_test[\"Sex\"].replace([\"male\",\"female\"],[1,0])"
   ]
  },
  {
   "cell_type": "code",
   "execution_count": 26,
   "metadata": {},
   "outputs": [],
   "source": [
    "x2 = pd.concat([pd.get_dummies(df_test.loc[:,[\"Embarked\"]]),df_test.loc[:,[\"Fare\",\"Sex binary\",\"Pclass\"]]],axis=1)"
   ]
  },
  {
   "cell_type": "code",
   "execution_count": 27,
   "metadata": {},
   "outputs": [],
   "source": [
    "y_submission_pred = xgb_model.predict(x2)"
   ]
  },
  {
   "cell_type": "code",
   "execution_count": 28,
   "metadata": {},
   "outputs": [
    {
     "data": {
      "text/plain": [
       "array([0, 1, 0, 0, 1, 0, 1, 0, 1, 0, 0, 0, 1, 0, 1, 1, 0, 0, 1, 1, 1, 0,\n",
       "       1, 0, 1, 0, 1, 0, 0, 0, 0, 0, 0, 0, 1, 0, 0, 0, 0, 1, 0, 1, 0, 1,\n",
       "       1, 0, 0, 0, 1, 1, 0, 0, 1, 1, 1, 0, 0, 0, 0, 1, 0, 0, 0, 1, 0, 1,\n",
       "       1, 0, 0, 1, 1, 0, 1, 0, 1, 0, 0, 1, 0, 1, 1, 0, 0, 0, 0, 0, 1, 0,\n",
       "       1, 0, 0, 0, 1, 0, 0, 0, 1, 0, 1, 0, 1, 0, 0, 0, 1, 0, 0, 0, 0, 0,\n",
       "       0, 1, 1, 1, 1, 0, 0, 1, 0, 1, 1, 0, 1, 0, 0, 1, 0, 1, 0, 0, 0, 0,\n",
       "       0, 0, 0, 0, 0, 0, 0, 0, 0, 1, 0, 0, 1, 0, 0, 0, 1, 0, 1, 0, 0, 1,\n",
       "       0, 0, 1, 1, 1, 0, 1, 1, 1, 0, 0, 0, 0, 0, 1, 0, 0, 0, 0, 0, 0, 1,\n",
       "       1, 1, 1, 1, 0, 0, 1, 0, 1, 0, 1, 0, 0, 0, 0, 0, 0, 0, 0, 0, 0, 1,\n",
       "       0, 0, 1, 0, 0, 1, 0, 0, 1, 0, 1, 0, 0, 0, 0, 1, 1, 0, 1, 0, 1, 0,\n",
       "       1, 0, 1, 0, 1, 1, 0, 1, 0, 0, 0, 1, 0, 0, 0, 0, 0, 0, 1, 1, 1, 1,\n",
       "       0, 0, 0, 0, 1, 0, 1, 0, 1, 0, 0, 0, 0, 0, 0, 0, 1, 0, 0, 0, 1, 1,\n",
       "       0, 0, 0, 0, 0, 0, 0, 0, 1, 1, 0, 1, 0, 0, 0, 0, 0, 0, 1, 1, 0, 0,\n",
       "       0, 1, 0, 0, 0, 1, 0, 1, 0, 0, 1, 0, 0, 0, 0, 0, 0, 0, 1, 1, 0, 0,\n",
       "       1, 0, 0, 0, 0, 1, 1, 1, 0, 0, 0, 0, 0, 0, 0, 1, 1, 0, 1, 0, 0, 0,\n",
       "       1, 0, 0, 1, 0, 0, 0, 0, 0, 0, 0, 0, 0, 1, 0, 1, 0, 1, 0, 1, 1, 0,\n",
       "       0, 0, 0, 0, 1, 0, 0, 0, 0, 1, 1, 0, 1, 0, 0, 0, 1, 0, 0, 1, 0, 0,\n",
       "       1, 1, 0, 0, 0, 0, 0, 0, 0, 1, 0, 1, 0, 0, 0, 0, 1, 1, 0, 0, 0, 1,\n",
       "       0, 1, 0, 0, 1, 0, 1, 0, 0, 0, 0, 0, 1, 0, 1, 1, 1, 0, 1, 0, 0, 0],\n",
       "      dtype=int64)"
      ]
     },
     "execution_count": 28,
     "metadata": {},
     "output_type": "execute_result"
    }
   ],
   "source": [
    "y_submission_pred"
   ]
  },
  {
   "cell_type": "code",
   "execution_count": 29,
   "metadata": {},
   "outputs": [],
   "source": [
    "df_Survived = pd.DataFrame(y_submission_pred,columns=[\"Survived\"])"
   ]
  },
  {
   "cell_type": "code",
   "execution_count": 30,
   "metadata": {},
   "outputs": [
    {
     "data": {
      "text/html": [
       "<div>\n",
       "<style scoped>\n",
       "    .dataframe tbody tr th:only-of-type {\n",
       "        vertical-align: middle;\n",
       "    }\n",
       "\n",
       "    .dataframe tbody tr th {\n",
       "        vertical-align: top;\n",
       "    }\n",
       "\n",
       "    .dataframe thead th {\n",
       "        text-align: right;\n",
       "    }\n",
       "</style>\n",
       "<table border=\"1\" class=\"dataframe\">\n",
       "  <thead>\n",
       "    <tr style=\"text-align: right;\">\n",
       "      <th></th>\n",
       "      <th>Survived</th>\n",
       "    </tr>\n",
       "  </thead>\n",
       "  <tbody>\n",
       "    <tr>\n",
       "      <th>0</th>\n",
       "      <td>0</td>\n",
       "    </tr>\n",
       "    <tr>\n",
       "      <th>1</th>\n",
       "      <td>1</td>\n",
       "    </tr>\n",
       "    <tr>\n",
       "      <th>2</th>\n",
       "      <td>0</td>\n",
       "    </tr>\n",
       "    <tr>\n",
       "      <th>3</th>\n",
       "      <td>0</td>\n",
       "    </tr>\n",
       "    <tr>\n",
       "      <th>4</th>\n",
       "      <td>1</td>\n",
       "    </tr>\n",
       "    <tr>\n",
       "      <th>...</th>\n",
       "      <td>...</td>\n",
       "    </tr>\n",
       "    <tr>\n",
       "      <th>413</th>\n",
       "      <td>0</td>\n",
       "    </tr>\n",
       "    <tr>\n",
       "      <th>414</th>\n",
       "      <td>1</td>\n",
       "    </tr>\n",
       "    <tr>\n",
       "      <th>415</th>\n",
       "      <td>0</td>\n",
       "    </tr>\n",
       "    <tr>\n",
       "      <th>416</th>\n",
       "      <td>0</td>\n",
       "    </tr>\n",
       "    <tr>\n",
       "      <th>417</th>\n",
       "      <td>0</td>\n",
       "    </tr>\n",
       "  </tbody>\n",
       "</table>\n",
       "<p>418 rows × 1 columns</p>\n",
       "</div>"
      ],
      "text/plain": [
       "     Survived\n",
       "0           0\n",
       "1           1\n",
       "2           0\n",
       "3           0\n",
       "4           1\n",
       "..        ...\n",
       "413         0\n",
       "414         1\n",
       "415         0\n",
       "416         0\n",
       "417         0\n",
       "\n",
       "[418 rows x 1 columns]"
      ]
     },
     "execution_count": 30,
     "metadata": {},
     "output_type": "execute_result"
    }
   ],
   "source": [
    "df_Survived"
   ]
  },
  {
   "cell_type": "code",
   "execution_count": 31,
   "metadata": {},
   "outputs": [],
   "source": [
    "df_submission = pd.concat([df_test[\"PassengerId\"],df_Survived],axis=1)"
   ]
  },
  {
   "cell_type": "code",
   "execution_count": 32,
   "metadata": {},
   "outputs": [
    {
     "data": {
      "text/html": [
       "<div>\n",
       "<style scoped>\n",
       "    .dataframe tbody tr th:only-of-type {\n",
       "        vertical-align: middle;\n",
       "    }\n",
       "\n",
       "    .dataframe tbody tr th {\n",
       "        vertical-align: top;\n",
       "    }\n",
       "\n",
       "    .dataframe thead th {\n",
       "        text-align: right;\n",
       "    }\n",
       "</style>\n",
       "<table border=\"1\" class=\"dataframe\">\n",
       "  <thead>\n",
       "    <tr style=\"text-align: right;\">\n",
       "      <th></th>\n",
       "      <th>PassengerId</th>\n",
       "      <th>Survived</th>\n",
       "    </tr>\n",
       "  </thead>\n",
       "  <tbody>\n",
       "    <tr>\n",
       "      <th>0</th>\n",
       "      <td>892</td>\n",
       "      <td>0</td>\n",
       "    </tr>\n",
       "    <tr>\n",
       "      <th>1</th>\n",
       "      <td>893</td>\n",
       "      <td>1</td>\n",
       "    </tr>\n",
       "    <tr>\n",
       "      <th>2</th>\n",
       "      <td>894</td>\n",
       "      <td>0</td>\n",
       "    </tr>\n",
       "    <tr>\n",
       "      <th>3</th>\n",
       "      <td>895</td>\n",
       "      <td>0</td>\n",
       "    </tr>\n",
       "    <tr>\n",
       "      <th>4</th>\n",
       "      <td>896</td>\n",
       "      <td>1</td>\n",
       "    </tr>\n",
       "    <tr>\n",
       "      <th>...</th>\n",
       "      <td>...</td>\n",
       "      <td>...</td>\n",
       "    </tr>\n",
       "    <tr>\n",
       "      <th>413</th>\n",
       "      <td>1305</td>\n",
       "      <td>0</td>\n",
       "    </tr>\n",
       "    <tr>\n",
       "      <th>414</th>\n",
       "      <td>1306</td>\n",
       "      <td>1</td>\n",
       "    </tr>\n",
       "    <tr>\n",
       "      <th>415</th>\n",
       "      <td>1307</td>\n",
       "      <td>0</td>\n",
       "    </tr>\n",
       "    <tr>\n",
       "      <th>416</th>\n",
       "      <td>1308</td>\n",
       "      <td>0</td>\n",
       "    </tr>\n",
       "    <tr>\n",
       "      <th>417</th>\n",
       "      <td>1309</td>\n",
       "      <td>0</td>\n",
       "    </tr>\n",
       "  </tbody>\n",
       "</table>\n",
       "<p>418 rows × 2 columns</p>\n",
       "</div>"
      ],
      "text/plain": [
       "     PassengerId  Survived\n",
       "0            892         0\n",
       "1            893         1\n",
       "2            894         0\n",
       "3            895         0\n",
       "4            896         1\n",
       "..           ...       ...\n",
       "413         1305         0\n",
       "414         1306         1\n",
       "415         1307         0\n",
       "416         1308         0\n",
       "417         1309         0\n",
       "\n",
       "[418 rows x 2 columns]"
      ]
     },
     "execution_count": 32,
     "metadata": {},
     "output_type": "execute_result"
    }
   ],
   "source": [
    "df_submission"
   ]
  },
  {
   "cell_type": "code",
   "execution_count": 33,
   "metadata": {},
   "outputs": [],
   "source": [
    "df_submission.to_csv(\"C:/Users/User/OneDrive - Singapore Management University/Python and R/Python/Python_Notebooks/Kaggle/Titanic competition/submission.csv\",index=False)"
   ]
  },
  {
   "cell_type": "code",
   "execution_count": null,
   "metadata": {},
   "outputs": [],
   "source": []
  }
 ],
 "metadata": {
  "kernelspec": {
   "display_name": "Python 3",
   "language": "python",
   "name": "python3"
  },
  "language_info": {
   "codemirror_mode": {
    "name": "ipython",
    "version": 3
   },
   "file_extension": ".py",
   "mimetype": "text/x-python",
   "name": "python",
   "nbconvert_exporter": "python",
   "pygments_lexer": "ipython3",
   "version": "3.7.6"
  }
 },
 "nbformat": 4,
 "nbformat_minor": 4
}
